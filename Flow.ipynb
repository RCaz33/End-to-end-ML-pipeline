{
 "cells": [
  {
   "cell_type": "markdown",
   "id": "76a61a2c",
   "metadata": {},
   "source": [
    "# create dataset"
   ]
  },
  {
   "cell_type": "code",
   "execution_count": 1,
   "id": "698dde71",
   "metadata": {},
   "outputs": [],
   "source": [
    "from sklearn import datasets\n",
    "\n",
    "X,y = datasets.load_breast_cancer(return_X_y=True)\n",
    "\n",
    "\n",
    "from sklearn.model_selection import train_test_split\n",
    "X_train, X_test, y_train, y_test = train_test_split(X, y, test_size=0.2, random_state=42, stratify=y)\n"
   ]
  },
  {
   "cell_type": "markdown",
   "id": "8867afae",
   "metadata": {},
   "source": [
    "# train model"
   ]
  },
  {
   "cell_type": "code",
   "execution_count": 2,
   "id": "c9295c64",
   "metadata": {},
   "outputs": [],
   "source": [
    "from sklearn.linear_model import LogisticRegression\n",
    "\n",
    "# Train and predict Logistic Regression\n",
    "clf = LogisticRegression(max_iter=10000,random_state=0).fit(X_train, y_train)\n",
    "y_pred = clf.predict(X_test)\n",
    "y_prob = clf.predict_proba(X_test)[:, 1]  \n"
   ]
  },
  {
   "cell_type": "markdown",
   "id": "047ba9be",
   "metadata": {},
   "source": [
    "# evaluate model"
   ]
  },
  {
   "cell_type": "code",
   "execution_count": 3,
   "id": "9b5ff028",
   "metadata": {},
   "outputs": [
    {
     "name": "stdout",
     "output_type": "stream",
     "text": [
      "Accuracy: 0.9649122807017544\n",
      "Precision: 0.9594594594594594\n",
      "Recall: 0.9861111111111112\n",
      "F1 Score: 0.9726027397260274\n",
      "ROC-AUC: 0.9953703703703703\n"
     ]
    }
   ],
   "source": [
    "from sklearn.metrics import accuracy_score, precision_score, recall_score, f1_score, roc_auc_score, classification_report\n",
    "\n",
    "# Evaluation\n",
    "print(\"Accuracy:\", accuracy_score(y_test, y_pred))\n",
    "print(\"Precision:\", precision_score(y_test, y_pred))\n",
    "print(\"Recall:\", recall_score(y_test, y_pred))\n",
    "print(\"F1 Score:\", f1_score(y_test, y_pred))\n",
    "print(\"ROC-AUC:\", roc_auc_score(y_test, y_prob))"
   ]
  },
  {
   "cell_type": "markdown",
   "id": "139cbe8a",
   "metadata": {},
   "source": [
    "# save model"
   ]
  },
  {
   "cell_type": "code",
   "execution_count": 5,
   "id": "54d81e20",
   "metadata": {},
   "outputs": [],
   "source": [
    "import os\n",
    "import pickle\n",
    "\n",
    "os.makedirs('src/model', exist_ok=True)\n",
    "pickle.dump(clf, open('src/model/logistic_regression_model.pkl', 'wb'))"
   ]
  },
  {
   "cell_type": "markdown",
   "id": "5da7f637",
   "metadata": {},
   "source": [
    "# use API to predict data"
   ]
  },
  {
   "cell_type": "code",
   "execution_count": 13,
   "id": "9bb90b9c",
   "metadata": {},
   "outputs": [
    {
     "name": "stdout",
     "output_type": "stream",
     "text": [
      "200\n",
      "b'{\"prediction\":[0]}'\n"
     ]
    }
   ],
   "source": [
    "import requests\n",
    "\n",
    "url_predict = \"http://127.0.0.1:8000/predict\"\n",
    "\n",
    "# predict one\n",
    "response = requests.post(url=url_predict,json={\"data\":list(X_test[0])})\n",
    "\n",
    "print(response.status_code)\n",
    "print(response.content)"
   ]
  },
  {
   "cell_type": "markdown",
   "id": "548664e9",
   "metadata": {},
   "source": [
    "# use conterized API to predict data"
   ]
  },
  {
   "cell_type": "code",
   "execution_count": 20,
   "id": "0f7bbfe8",
   "metadata": {},
   "outputs": [
    {
     "data": {
      "text/plain": [
       "array([1.955e+01, 2.877e+01, 1.336e+02, 1.207e+03, 9.260e-02, 2.063e-01,\n",
       "       1.784e-01, 1.144e-01, 1.893e-01, 6.232e-02, 8.426e-01, 1.199e+00,\n",
       "       7.158e+00, 1.064e+02, 6.356e-03, 4.765e-02, 3.863e-02, 1.519e-02,\n",
       "       1.936e-02, 5.252e-03, 2.505e+01, 3.627e+01, 1.786e+02, 1.926e+03,\n",
       "       1.281e-01, 5.329e-01, 4.251e-01, 1.941e-01, 2.818e-01, 1.005e-01])"
      ]
     },
     "execution_count": 20,
     "metadata": {},
     "output_type": "execute_result"
    }
   ],
   "source": [
    "X_test[0]"
   ]
  },
  {
   "cell_type": "code",
   "execution_count": 23,
   "id": "aabb14cf",
   "metadata": {},
   "outputs": [],
   "source": [
    "import requests\n",
    "\n",
    "url_predict = \"http://127.0.0.1:4000/predict\" # use docker container expose port\n",
    "\n",
    "# predict one\n",
    "response = requests.post(url=url_predict,json={\"data\":list(X_test[0])})\n"
   ]
  },
  {
   "cell_type": "code",
   "execution_count": 24,
   "id": "183ff7c7",
   "metadata": {},
   "outputs": [
    {
     "name": "stdout",
     "output_type": "stream",
     "text": [
      "200\n",
      "b'{\"prediction\":[0]}'\n"
     ]
    }
   ],
   "source": [
    "\n",
    "print(response.status_code)\n",
    "print(response.content)"
   ]
  },
  {
   "cell_type": "markdown",
   "id": "a387031d",
   "metadata": {},
   "source": [
    "# use protected deploye model"
   ]
  },
  {
   "cell_type": "code",
   "execution_count": null,
   "id": "04872975",
   "metadata": {},
   "outputs": [],
   "source": [
    "import json\n",
    "import os\n",
    "import loadenv\n",
    "loadenv()\n",
    "\n",
    "\n",
    "admin = os.getenv(\"API_username\")\n",
    "password = os.getenv(\"API_password\")\n",
    "\n",
    "\n",
    "# 1. Get token\n",
    "url = \"http://localhost:4000/login\" \n",
    "headers =  {\"Content-Type: application/json\" }\n",
    "data = {\"username\": admin, \"password\": password}\n",
    "\n",
    "\n",
    "response = requests.post(url=url,headers=headers,json=data)\n",
    "\n",
    "\n",
    "print(response.status_code)\n",
    "print(response.content)"
   ]
  },
  {
   "cell_type": "code",
   "execution_count": null,
   "id": "8b22eede",
   "metadata": {},
   "outputs": [],
   "source": [
    "\n",
    "# 2. Use token (replace TOKEN with actual token from step 1)\n",
    "curl -X POST \"http://localhost:4000/predict\" \\\n",
    "headers= {\"Authorization: Bearer TOKEN\",\n",
    "        \"Content-Type: application/json\"} \\\n",
    "data = json.dumps({\"data\": [1, 2, 3, 4]})"
   ]
  }
 ],
 "metadata": {
  "kernelspec": {
   "display_name": "ML_Flow",
   "language": "python",
   "name": "python3"
  },
  "language_info": {
   "codemirror_mode": {
    "name": "ipython",
    "version": 3
   },
   "file_extension": ".py",
   "mimetype": "text/x-python",
   "name": "python",
   "nbconvert_exporter": "python",
   "pygments_lexer": "ipython3",
   "version": "3.10.15"
  }
 },
 "nbformat": 4,
 "nbformat_minor": 5
}
